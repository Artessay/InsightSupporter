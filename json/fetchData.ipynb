{
 "cells": [
  {
   "cell_type": "code",
   "execution_count": 1,
   "metadata": {},
   "outputs": [],
   "source": [
    "import json\n",
    "from pprint import pprint"
   ]
  },
  {
   "attachments": {},
   "cell_type": "markdown",
   "metadata": {},
   "source": [
    "加载Json数据处理辅助分析类"
   ]
  },
  {
   "cell_type": "code",
   "execution_count": 2,
   "metadata": {},
   "outputs": [],
   "source": [
    "from DataFetcher import DataFetcher\n",
    "\n",
    "data = json.load(open('./summary.json', \"r\"))\n",
    "extractor = DataFetcher(data)"
   ]
  },
  {
   "attachments": {},
   "cell_type": "markdown",
   "metadata": {},
   "source": [
    "获取TeamStatus的数据并打印相关信息"
   ]
  },
  {
   "cell_type": "code",
   "execution_count": 3,
   "metadata": {},
   "outputs": [
    {
     "name": "stdout",
     "output_type": "stream",
     "text": [
      "Dallas Mavericks\n",
      "https://a.espncdn.com/i/teamlogos/nba/500/dal.png\n"
     ]
    }
   ],
   "source": [
    "homeStatus = extractor.getTeamHomeStatus()\n",
    "print(homeStatus['name'])\n",
    "print(homeStatus['logo'])"
   ]
  },
  {
   "attachments": {},
   "cell_type": "markdown",
   "metadata": {},
   "source": [
    "打印teamStatus中的统计信息"
   ]
  },
  {
   "cell_type": "code",
   "execution_count": 4,
   "metadata": {},
   "outputs": [
    {
     "name": "stdout",
     "output_type": "stream",
     "text": [
      "[{'label': 'FG', 'value': '36-80'},\n",
      " {'label': 'Field Goal %', 'value': '45.0'},\n",
      " {'label': '3PT', 'value': '16-44'},\n",
      " {'label': 'Three Point %', 'value': '36.4'},\n",
      " {'label': 'FT', 'value': '24-27'},\n",
      " {'label': 'Free Throw %', 'value': '88.9'},\n",
      " {'label': 'Rebounds', 'value': '34'},\n",
      " {'label': 'Offensive Rebounds', 'value': '7'},\n",
      " {'label': 'Defensive Rebounds', 'value': '27'},\n",
      " {'label': 'Assists', 'value': '20'},\n",
      " {'label': 'Steals', 'value': '10'},\n",
      " {'label': 'Blocks', 'value': '7'},\n",
      " {'label': 'Turnovers', 'value': '14'},\n",
      " {'label': 'Team Turnovers', 'value': '0'},\n",
      " {'label': 'Total Turnovers', 'value': '14'},\n",
      " {'label': 'Technical Fouls', 'value': '1'},\n",
      " {'label': 'Total Technical Fouls', 'value': '1'},\n",
      " {'label': 'Flagrant Fouls', 'value': '0'},\n",
      " {'label': 'Points Off Turnovers', 'value': '16'},\n",
      " {'label': 'Fast Break Points', 'value': '11'},\n",
      " {'label': 'Points in Paint', 'value': '32'},\n",
      " {'label': 'Fouls', 'value': '21'},\n",
      " {'label': 'Largest Lead', 'value': '16'}]\n",
      "16-44\n"
     ]
    }
   ],
   "source": [
    "pprint(homeStatus['statistics'])\n",
    "print(homeStatus['statistics'][2]['value'])"
   ]
  },
  {
   "attachments": {},
   "cell_type": "markdown",
   "metadata": {},
   "source": [
    "主队和客队的操作方式都是相同的"
   ]
  },
  {
   "cell_type": "code",
   "execution_count": 5,
   "metadata": {},
   "outputs": [
    {
     "name": "stdout",
     "output_type": "stream",
     "text": [
      "[{'label': 'FG', 'value': '37-81'},\n",
      " {'label': 'Field Goal %', 'value': '45.7'},\n",
      " {'label': '3PT', 'value': '8-26'},\n",
      " {'label': 'Three Point %', 'value': '30.8'},\n",
      " {'label': 'FT', 'value': '24-28'},\n",
      " {'label': 'Free Throw %', 'value': '85.7'},\n",
      " {'label': 'Rebounds', 'value': '45'},\n",
      " {'label': 'Offensive Rebounds', 'value': '12'},\n",
      " {'label': 'Defensive Rebounds', 'value': '33'},\n",
      " {'label': 'Assists', 'value': '26'},\n",
      " {'label': 'Steals', 'value': '9'},\n",
      " {'label': 'Blocks', 'value': '3'},\n",
      " {'label': 'Turnovers', 'value': '14'},\n",
      " {'label': 'Team Turnovers', 'value': '1'},\n",
      " {'label': 'Total Turnovers', 'value': '15'},\n",
      " {'label': 'Technical Fouls', 'value': '1'},\n",
      " {'label': 'Total Technical Fouls', 'value': '1'},\n",
      " {'label': 'Flagrant Fouls', 'value': '0'},\n",
      " {'label': 'Points Off Turnovers', 'value': '28'},\n",
      " {'label': 'Fast Break Points', 'value': '8'},\n",
      " {'label': 'Points in Paint', 'value': '46'},\n",
      " {'label': 'Fouls', 'value': '21'},\n",
      " {'label': 'Largest Lead', 'value': '6'}]\n"
     ]
    }
   ],
   "source": [
    "awayTeamStatus = extractor.getTeamAwayStatus()\n",
    "pprint(awayTeamStatus['statistics'])"
   ]
  },
  {
   "attachments": {},
   "cell_type": "markdown",
   "metadata": {},
   "source": [
    "接下来我们来获取Box Score的相关内容。在我们的格式下，box score是一个列表list"
   ]
  },
  {
   "cell_type": "code",
   "execution_count": 6,
   "metadata": {},
   "outputs": [
    {
     "name": "stdout",
     "output_type": "stream",
     "text": [
      "12\n"
     ]
    }
   ],
   "source": [
    "boxScoreHome:list = extractor.getHomeBoxScore()\n",
    "print(len(boxScoreHome))"
   ]
  },
  {
   "cell_type": "code",
   "execution_count": 7,
   "metadata": {},
   "outputs": [
    {
     "name": "stdout",
     "output_type": "stream",
     "text": [
      "Reggie Bullock\n",
      "R. Bullock\n",
      "https://a.espncdn.com/i/headshots/nba/players/full/2528779.png\n",
      "Small Forward\n",
      "True\n",
      "False\n"
     ]
    }
   ],
   "source": [
    "player = boxScoreHome[2]\n",
    "print(player['name'])\n",
    "print(player['shortName'])\n",
    "print(player['headshot'])   # 头像图片，可能为None\n",
    "print(player['position'])   # 阵容站位，maybe unused\n",
    "print(player['starter'])    # 是否首发，True or False\n",
    "print(player['didNotPlay']) # 是否未上场，True or False"
   ]
  },
  {
   "cell_type": "code",
   "execution_count": 8,
   "metadata": {},
   "outputs": [
    {
     "name": "stdout",
     "output_type": "stream",
     "text": [
      "['MIN',\n",
      " 'FG',\n",
      " '3PT',\n",
      " 'FT',\n",
      " 'OREB',\n",
      " 'DREB',\n",
      " 'REB',\n",
      " 'AST',\n",
      " 'STL',\n",
      " 'BLK',\n",
      " 'TO',\n",
      " 'PF',\n",
      " '+/-',\n",
      " 'PTS']\n",
      "['27', '1-4', '1-4', '0-0', '0', '2', '2', '1', '1', '0', '0', '0', '-7', '3']\n"
     ]
    }
   ],
   "source": [
    "label = extractor.getPlayerLabel()\n",
    "pprint(label)\n",
    "pprint(player['statistics'])"
   ]
  },
  {
   "attachments": {},
   "cell_type": "markdown",
   "metadata": {},
   "source": [
    "客场的情况同理处理"
   ]
  },
  {
   "cell_type": "code",
   "execution_count": 9,
   "metadata": {},
   "outputs": [
    {
     "name": "stdout",
     "output_type": "stream",
     "text": [
      "14\n"
     ]
    }
   ],
   "source": [
    "boxScoreAway:list = extractor.getAwayBoxScore()\n",
    "print(len(boxScoreAway))"
   ]
  },
  {
   "cell_type": "code",
   "execution_count": 10,
   "metadata": {},
   "outputs": [
    {
     "name": "stdout",
     "output_type": "stream",
     "text": [
      "Daishen Nix\n",
      "D. Nix\n",
      "https://a.espncdn.com/i/headshots/nba/players/full/4432176.png\n",
      "Shooting Guard\n",
      "False\n",
      "False\n"
     ]
    }
   ],
   "source": [
    "player = boxScoreAway[10]\n",
    "print(player['name'])\n",
    "print(player['shortName'])\n",
    "print(player['headshot'])   # 头像图片，可能为None\n",
    "print(player['position'])   # 阵容站位，maybe unused\n",
    "print(player['starter'])    # 是否首发，True or False\n",
    "print(player['didNotPlay']) # 是否未上场，True or False"
   ]
  },
  {
   "cell_type": "code",
   "execution_count": 11,
   "metadata": {},
   "outputs": [
    {
     "name": "stdout",
     "output_type": "stream",
     "text": [
      "['MIN',\n",
      " 'FG',\n",
      " '3PT',\n",
      " 'FT',\n",
      " 'OREB',\n",
      " 'DREB',\n",
      " 'REB',\n",
      " 'AST',\n",
      " 'STL',\n",
      " 'BLK',\n",
      " 'TO',\n",
      " 'PF',\n",
      " '+/-',\n",
      " 'PTS']\n",
      "['9', '1-2', '1-2', '0-2', '0', '0', '0', '0', '0', '0', '2', '1', '-14', '3']\n"
     ]
    }
   ],
   "source": [
    "label = extractor.getPlayerLabel()\n",
    "pprint(label)\n",
    "pprint(player['statistics'])"
   ]
  },
  {
   "cell_type": "code",
   "execution_count": 12,
   "metadata": {},
   "outputs": [
    {
     "name": "stdout",
     "output_type": "stream",
     "text": [
      "Boban Marjanovic\n",
      "B. Marjanovic\n",
      "https://a.espncdn.com/i/headshots/nba/players/full/4376.png\n",
      "Center\n",
      "False\n",
      "True\n",
      "['MIN',\n",
      " 'FG',\n",
      " '3PT',\n",
      " 'FT',\n",
      " 'OREB',\n",
      " 'DREB',\n",
      " 'REB',\n",
      " 'AST',\n",
      " 'STL',\n",
      " 'BLK',\n",
      " 'TO',\n",
      " 'PF',\n",
      " '+/-',\n",
      " 'PTS']\n",
      "[]\n"
     ]
    }
   ],
   "source": [
    "player = boxScoreAway[13]\n",
    "print(player['name'])\n",
    "print(player['shortName'])\n",
    "print(player['headshot'])   # 头像图片，可能为None\n",
    "print(player['position'])   # 阵容站位，maybe unused\n",
    "print(player['starter'])    # 是否首发，True or False\n",
    "print(player['didNotPlay']) # 是否未上场，True or False\n",
    "label = extractor.getPlayerLabel()\n",
    "pprint(label)\n",
    "pprint(player['statistics'])"
   ]
  }
 ],
 "metadata": {
  "kernelspec": {
   "display_name": "Python 3",
   "language": "python",
   "name": "python3"
  },
  "language_info": {
   "codemirror_mode": {
    "name": "ipython",
    "version": 3
   },
   "file_extension": ".py",
   "mimetype": "text/x-python",
   "name": "python",
   "nbconvert_exporter": "python",
   "pygments_lexer": "ipython3",
   "version": "3.10.4"
  },
  "orig_nbformat": 4
 },
 "nbformat": 4,
 "nbformat_minor": 2
}
