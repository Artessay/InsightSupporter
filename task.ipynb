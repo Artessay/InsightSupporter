{
 "cells": [
  {
   "cell_type": "code",
   "execution_count": 1,
   "metadata": {},
   "outputs": [],
   "source": [
    "import os\n",
    "import openai\n",
    "\n",
    "openai.api_key = os.getenv(\"OPENAI_API_KEY\")"
   ]
  },
  {
   "cell_type": "code",
   "execution_count": 2,
   "metadata": {},
   "outputs": [],
   "source": [
    "import pandas as pd"
   ]
  },
  {
   "cell_type": "code",
   "execution_count": 3,
   "metadata": {},
   "outputs": [
    {
     "name": "stdout",
     "output_type": "stream",
     "text": [
      "83\n"
     ]
    },
    {
     "data": {
      "text/html": [
       "<div>\n",
       "<style scoped>\n",
       "    .dataframe tbody tr th:only-of-type {\n",
       "        vertical-align: middle;\n",
       "    }\n",
       "\n",
       "    .dataframe tbody tr th {\n",
       "        vertical-align: top;\n",
       "    }\n",
       "\n",
       "    .dataframe thead th {\n",
       "        text-align: right;\n",
       "    }\n",
       "</style>\n",
       "<table border=\"1\" class=\"dataframe\">\n",
       "  <thead>\n",
       "    <tr style=\"text-align: right;\">\n",
       "      <th></th>\n",
       "      <th>Insight</th>\n",
       "      <th>Insight Type</th>\n",
       "    </tr>\n",
       "  </thead>\n",
       "  <tbody>\n",
       "    <tr>\n",
       "      <th>0</th>\n",
       "      <td>The Utah Jazz have helped Lauri Markkanen unlo...</td>\n",
       "      <td>Single Player Performance, Strategy and Tactic</td>\n",
       "    </tr>\n",
       "    <tr>\n",
       "      <th>1</th>\n",
       "      <td>Division and conference makes it easy for Mave...</td>\n",
       "      <td>Strategy and Tactic</td>\n",
       "    </tr>\n",
       "    <tr>\n",
       "      <th>2</th>\n",
       "      <td>Kevin Durant had to leave the game after Jimmy...</td>\n",
       "      <td>Accident</td>\n",
       "    </tr>\n",
       "    <tr>\n",
       "      <th>3</th>\n",
       "      <td>The Lakers hustled more, but the Mavericks sho...</td>\n",
       "      <td>Whole Game Review</td>\n",
       "    </tr>\n",
       "    <tr>\n",
       "      <th>4</th>\n",
       "      <td>Without Kevin Durant, Kyrie Irving is aggressi...</td>\n",
       "      <td>Single Player Performance, Strategy and Tactic</td>\n",
       "    </tr>\n",
       "  </tbody>\n",
       "</table>\n",
       "</div>"
      ],
      "text/plain": [
       "                                             Insight  \\\n",
       "0  The Utah Jazz have helped Lauri Markkanen unlo...   \n",
       "1  Division and conference makes it easy for Mave...   \n",
       "2  Kevin Durant had to leave the game after Jimmy...   \n",
       "3  The Lakers hustled more, but the Mavericks sho...   \n",
       "4  Without Kevin Durant, Kyrie Irving is aggressi...   \n",
       "\n",
       "                                     Insight Type  \n",
       "0  Single Player Performance, Strategy and Tactic  \n",
       "1                             Strategy and Tactic  \n",
       "2                                        Accident  \n",
       "3                               Whole Game Review  \n",
       "4  Single Player Performance, Strategy and Tactic  "
      ]
     },
     "execution_count": 3,
     "metadata": {},
     "output_type": "execute_result"
    }
   ],
   "source": [
    "df = pd.read_csv(\"article_new.csv\")\n",
    "print(len(df))\n",
    "df = df.iloc[:, 3:5]\n",
    "df.head()"
   ]
  },
  {
   "cell_type": "code",
   "execution_count": 4,
   "metadata": {},
   "outputs": [
    {
     "data": {
      "text/plain": [
       "{'Single Player Performance': 51,\n",
       " 'Strategy and Tactic': 26,\n",
       " 'Accident': 6,\n",
       " 'Whole Game Review': 22,\n",
       " 'About Referee': 4}"
      ]
     },
     "execution_count": 4,
     "metadata": {},
     "output_type": "execute_result"
    }
   ],
   "source": [
    "types = df['Insight Type'].values\n",
    "types = [insight_type.split(\", \") for insight_type in types]\n",
    "type_dictionary = {}\n",
    "for type_list in types:\n",
    "    for type_ in type_list:\n",
    "        # print(type_)\n",
    "        if type_ not in type_dictionary:\n",
    "            type_dictionary[type_] = 1\n",
    "        else:\n",
    "            type_dictionary[type_] += 1\n",
    "\n",
    "type_dictionary"
   ]
  },
  {
   "cell_type": "code",
   "execution_count": 5,
   "metadata": {},
   "outputs": [
    {
     "name": "stdout",
     "output_type": "stream",
     "text": [
      "[0 0 1 1 0]\n"
     ]
    }
   ],
   "source": [
    "from sklearn.preprocessing import MultiLabelBinarizer\n",
    "multi_label = MultiLabelBinarizer(classes=sorted(type_dictionary.keys()))\n",
    "y_train = multi_label.fit_transform(types)\n",
    "print(y_train[0])"
   ]
  },
  {
   "cell_type": "code",
   "execution_count": 6,
   "metadata": {},
   "outputs": [],
   "source": [
    "import time"
   ]
  },
  {
   "cell_type": "code",
   "execution_count": 7,
   "metadata": {},
   "outputs": [],
   "source": [
    "prompt = \"\"\"\n",
    "Decide whether an uterance describing the data fact type is value, difference, proportion, trend, categorization, distribution, rank, association, extreme, or outlier.\n",
    "Output labels only.\n",
    " \"\"\"\n",
    "\n",
    "def getLabel(input):\n",
    "    response = openai.Completion.create(\n",
    "        model=\"text-davinci-003\",\n",
    "        prompt = prompt + input,\n",
    "        temperature=0,\n",
    "        max_tokens=128,\n",
    "        frequency_penalty=0,\n",
    "        presence_penalty=0\n",
    "    )\n",
    "    message = response[\"choices\"][0][\"text\"].strip()\n",
    "    # print(message)\n",
    "    time.sleep(2)\n",
    "    \n",
    "    return message"
   ]
  },
  {
   "attachments": {},
   "cell_type": "markdown",
   "metadata": {},
   "source": [
    "虽然并行效率高，但是openAI会限速，不能使用并行代码来处理。"
   ]
  },
  {
   "cell_type": "code",
   "execution_count": 8,
   "metadata": {},
   "outputs": [],
   "source": [
    "insights = df['Insight'].values\n",
    "\n",
    "# y_predict = [getLabel(insight).split(\", \") for insight in insights]\n",
    "# y_predict = multi_label.fit_transform(y_predict)"
   ]
  },
  {
   "cell_type": "code",
   "execution_count": 9,
   "metadata": {},
   "outputs": [
    {
     "name": "stdout",
     "output_type": "stream",
     "text": [
      "The Utah Jazz have helped Lauri Markkanen unlock his offensive potential, becoming the kind of star they build a new foundation around.\n",
      "['No labels']\n",
      "Division and conference makes it easy for Maverick to win\n",
      "['Categorization']\n",
      "Kevin Durant had to leave the game after Jimmy Butler landed on his knee on this play.\n",
      "['Outlier']\n",
      "The Lakers hustled more, but the Mavericks shooting prevailed and this helps Mavericks won the game.\n",
      "['Difference']\n",
      "Without Kevin Durant, Kyrie Irving is aggressive and shot in the form of an ill-advised 30-footer\n",
      "['Difference']\n",
      "Nikola Jokic made a game-winning three-point jumper with .2 seconds on the clock to secure the victory for Denver Nuggets.\n",
      "['Extreme']\n",
      "Brooklyn Nets’ challenge of holding the fort without Kevin Durant became even more challenging.\n",
      "['Outlier']\n",
      "After Houston Rockets tore through their defense early, Los Angeles Clippers settled down and and outscored Houston Rockets in the fourth.\n",
      "['Difference']\n",
      "Wood is playing at All-Star level.\n",
      "['Value']\n",
      "Gabe Vincent lead Miami Heat to be aggressive.\n",
      "['Value']\n",
      "LeBron James became the second player score 38,000 career points, but still loss game.\n",
      "['Difference', 'Extreme']\n",
      "Kyrie Irving began his career with the Mavericks with a win and showed off some of his dazzling offensive ability with fantastic finishes.\n",
      "\n",
      "\n",
      "['Value']\n",
      "Miami Heat is valiant, but it is still not enough for victory.\n",
      "['No labels']\n",
      "Dallas Mavericks didn't make it a fight against Portland Trailblazers in the whole game.\n",
      "['Difference']\n",
      "Like the rest of the team, Hardy dropped off a little in the fourth quarter, still scoring but going 4-of-11 from the field.\n",
      "['Difference']\n",
      "Keeping it only a seven point deficit at halftime allowed the Mavericks to have a puncher’s chance in the third quarter.\n",
      "['Difference']\n",
      "Joel Embiid did not foul Rusell Westbrook on LAL's final possession.\n",
      "['Difference']\n",
      "Stephen Curry have a wonderful performance in this game and Draymond Green was a key force of the Dubs' fourth quarter brilliance.\n",
      "['No labels']\n",
      "Domantas Sabonis and Jalen Brunson are the best players in this week.\n",
      "['Categorization']\n",
      "RJ Barrett went coast-to-coast for the game-tying dunk with 0.6 seconds left.\n",
      "['Difference']\n",
      "Tom Thibodeau think the foul was unfair in the overtime.\n",
      "['Outlier']\n",
      "Serge Ibaka Remains Away From Team, Return Questionable\n",
      "['Outlier']\n",
      "Defensively the Wizards really struggled with their pick and roll coverages against both Stephen Curry and Jordan Poole, where they went for 41 points and 32 points, respectively.\n",
      "['Difference', 'Proportion']\n",
      "Bradley Beal has the potential to turn around Wizard's situation.\n",
      "['No labels']\n",
      "The New Orleans Pelicans were really good defensively in the first half, but they could not keep pace with the Cleveland Cavaliers in the fourth quarter.\n",
      "['Difference']\n",
      "Luda Doncic has a strong game against the Houston Rockets' strong defense.\n",
      "['Value']\n",
      "Dallas Mavericks head coach Jason Kidd does not believe he can field a competitive lineup containing JaVale McGee.\n",
      "['Categorization']\n",
      "Shai Gilgeous-Alexander thinks Oklanhoma City Thunder is going to be a really good team a lot sooner.\n",
      "['Value']\n",
      "Jusuf Nurkic has helped Portland space their offense and maintain the interior on both ends, but his inability to consistently secure the ball off the catch has been concerning.\n",
      "['No labels']\n",
      "Milwaukee's Lopez ejected in 4th quarter following altercation with several players and cause the team become more aggressive.\n",
      "['Outlier']\n",
      "Jrue Holiday thrills with dominance without Giannis as Bucks beat Raptors.\n",
      "['Value']\n",
      "Luka Doncic and Trae Young are worth the trade.\n",
      "['Value']\n",
      "Joel Embiid Trying to start off strong can drive the whole team.\n",
      "['No labels']\n",
      "Stephen Curry played the best game since comeback.\n",
      "['Value']\n",
      "To win the game, It is important to be aggressive in away match.\n",
      "['No applicable data fact type']\n",
      "Paul George's form has come back.\n",
      "['Trend']\n",
      "The game got a bit heated, with both teams playing confrontationally and committing more fouls\n",
      "['than usual.\\n\\nDifference']\n",
      "Although Damian Lillard got the highest score in the game, his team still lost.\n",
      "['Difference']\n",
      "Nikola Jokic is too difficult to control.\n",
      "['Outlier']\n",
      "The Portland Trail Blazers cannot keep up with the high-speed Denver Nuggets.\n",
      "['Difference']\n",
      "The Blazers shot well but played poorly in the second half.\n",
      "['No applicable fact type']\n",
      "The best NBA teams have different lineups.\n",
      "['Categorization']\n",
      "Jaren Jackson Jr. is the deserving front-runner to take home the Defensive Player of the Year trophy.\n",
      "['Categorization']\n",
      "Nikola Jokic is having one of the best \"invisible\" all-around seasons ever but may not become the MVP of this season.\n",
      "Rate limit reached for default-text-davinci-003 in organization org-FlwvN3fBLlG0OxsQ0btgE5z0 on requests per min. Limit: 60.000000 / min. Current: 70.000000 / min. Contact support@openai.com if you continue to have issues. Please add a payment method to your account to increase your rate limit. Visit https://platform.openai.com/account/billing to add a payment method.\n",
      "['Trend']\n",
      "The Denver Nuggets and the Los Angeles Clippers play an exciting game.\n",
      "['No labels']\n",
      "James Harden's latest trick is to bend NBA defenses with the power of stillness.\n",
      "['Value']\n",
      "The small backcourt, Garland and Mitchell, hasn’t hurt team on defense\n",
      "['Categorization']\n",
      "Kyrie Irving's defense is not good, so their team must have an offensive explosion to offset the likely defensive drop-off that comes with the presence of Kyrie Irving.\n",
      "['Difference']\n",
      "LaMelo Ball will miss the game after suffering a left ankle sprain.\n",
      "['Outlier']\n",
      "The Oklahoma City Thunder earned a massive victory over the Indiana Pacers.\n",
      "['No labels']\n",
      "Luka Doncic is phenomenal, but he needs some help.\n",
      "['Difference']\n",
      "The Mavericks need to improve their defense.\n",
      "['No label']\n",
      "With Bradley Beal back, the Wizards got their starting lineup together again and had the victory.\n",
      "['No labels']\n",
      "LaMelo Ball injured his left ankle again, making the team play together and fight stronger.\n",
      "['No labels']\n",
      "Offense ran through Normal Powell, but Lauri Markkanen was more aggressive and got going early.\n",
      "['Categorization']\n",
      "Anfernee Simons is the best player not named Damian Lillard or Jerami Grant, so Portland's trade may not touch him.\n",
      "['Categorization']\n",
      "When we were down, Fox got us back in it and when it was close, Fox got us some separation.\n",
      "['Difference']\n",
      "The Grizzlies and the Cavaliers remained close, and Dillon Brooks preserved the victory by blocking Garland's 3-point try at the buzzer.\n",
      "['Difference']\n",
      "The Grizzlies defeated the Cleveland Cavaliers 115-114 on Wednesday night to win their 11th straight game, tying a franchise record.\n",
      "['Trend']\n",
      "Tom Thibodeau defended the heavy load of minutes for the Knicks’ top players, but his team's players have high minutes per game.\n",
      "['Trend']\n",
      "Bradley Beal's comeback helps the Washington Wizards beat the New York Knicks.\n",
      "['Difference']\n",
      "With home woes, the Knicks didn't play well.\n",
      "['No labels']\n",
      "Dejounte Murray is a suitable running mate for Trae Young.\n",
      "['Value']\n",
      "DePaul pulled off a major upset on Wednesday at Wintrust Arena.\n",
      "['Outlier']\n",
      "Allen Iverson's position on an NBA roster had become untenable due to the sharp decline in his abilities and his outright refusal to even slightly alter the way he played the game.\n",
      "['Difference']\n",
      "Due of injuries, the Lakers must play \"mistake-free basketball.\"\n",
      "['Value']\n",
      "Even with LeBron putting up MVP-caliber numbers, the Lakers' performance is criticized.\n",
      "['Difference']\n",
      "The Dallas Mavericks are becoming more fun, energetic and exciting in the game.\n",
      "['Trend']\n",
      "The defensive lynchpin of the Dallas Mavericks, Maxi Kleber, will come back soon.\n",
      "['Outlier']\n",
      "Christian Wood and Luka Dončić play well together on the court.\n",
      "['Categorization']\n",
      "With Boston sporting a two-center starting lineup, they might be trying to go small to run the opposing bigs off the court.\n",
      "['Categorization']\n",
      "Bobby Portis is having one of the best seasons of his career and making a strong case as the best bench player in the NBA.\n",
      "['Categorization']\n",
      "Claxton hasn’t been shy about his candidacy for DPOY, so he may have been anxious to show his defensive prowess once more against Ayton.\n",
      "['Association']\n",
      "The Hawks built a big lead in the first half, and were able to take the 121-113 win, moving their winning streak to three games.\n",
      "['Difference', 'trend']\n",
      "The 3-pointer by Stephen Curry is incredible.\n",
      "Rate limit reached for default-text-davinci-003 in organization org-FlwvN3fBLlG0OxsQ0btgE5z0 on requests per min. Limit: 60.000000 / min. Current: 70.000000 / min. Contact support@openai.com if you continue to have issues. Please add a payment method to your account to increase your rate limit. Visit https://platform.openai.com/account/billing to add a payment method.\n",
      "['Outlier']\n",
      "The painting of Luka Doncic clutching a placard pleading for assistance was well-liked by viewers.\n",
      "['Categorization']\n",
      "The Spurs went toe-to-toe with the Blazers in the first half, with San Antonio ultimately falling.\n",
      "['Difference']\n",
      "The Grizzlies lost to the Warriors by just two points, making them disappointed.\n",
      "Rate limit reached for default-text-davinci-003 in organization org-FlwvN3fBLlG0OxsQ0btgE5z0 on requests per min. Limit: 60.000000 / min. Current: 80.000000 / min. Contact support@openai.com if you continue to have issues. Please add a payment method to your account to increase your rate limit. Visit https://platform.openai.com/account/billing to add a payment method.\n",
      "['Difference']\n",
      "Jordan Poole has the best and worst performance  in the Golden State Warriors' thrilling 122-120 victory over the Memphis Grizzlies.\n",
      "['Extreme', 'Outlier']\n",
      "Los Angeles was able to reclaim the lead after the third through persistent defensive clamps and timely outside shooting by unexpected sources.\n",
      "['No labels']\n",
      "When the ball is popping, Harris have got to step it up and shoot the ball with confidence.\n",
      "['No labels']\n",
      "Joel Embiid always tries to play whomever is in front of him with the same aggression and try to score the ball, and James Harden took over after the first three quarters and finally led the 76ers past the Nets.\n",
      "['Value', 'Difference', 'Trend']\n",
      "Losing star point guard Luka Dončić, who is in the midst of his best season in the NBA, for any period of time is a blow for the Mavericks.\n",
      "['Extreme']\n",
      "[0 0 0 0 0]\n"
     ]
    },
    {
     "name": "stderr",
     "output_type": "stream",
     "text": [
      "d:\\Python\\Python310\\lib\\site-packages\\sklearn\\preprocessing\\_label.py:875: UserWarning: unknown class(es) ['Association', 'Categorization', 'Difference', 'Extreme', 'No applicable data fact type', 'No applicable fact type', 'No label', 'No labels', 'Outlier', 'Proportion', 'Trend', 'Value', 'than usual.\\n\\nDifference', 'trend'] will be ignored\n",
      "  warnings.warn(\n"
     ]
    }
   ],
   "source": [
    "y_predict = []\n",
    "for insight in insights:\n",
    "    print(insight)\n",
    "    while (True):\n",
    "        try:\n",
    "            label = getLabel(insight)\n",
    "            break\n",
    "        except Exception as exc: \n",
    "            print(exc)\n",
    "            time.sleep(1)\n",
    "    labels = label.split(\", \")\n",
    "    print(labels)\n",
    "    y_predict.append(labels)\n",
    "\n",
    "y_predict = multi_label.fit_transform(y_predict)\n",
    "print(y_predict[1])"
   ]
  }
 ],
 "metadata": {
  "kernelspec": {
   "display_name": "Python 3",
   "language": "python",
   "name": "python3"
  },
  "language_info": {
   "codemirror_mode": {
    "name": "ipython",
    "version": 3
   },
   "file_extension": ".py",
   "mimetype": "text/x-python",
   "name": "python",
   "nbconvert_exporter": "python",
   "pygments_lexer": "ipython3",
   "version": "3.10.4"
  },
  "orig_nbformat": 4,
  "vscode": {
   "interpreter": {
    "hash": "301a17a29b57d3836b7901af1621afd6d2b1f2298b9c7949191147cf2fea93e3"
   }
  }
 },
 "nbformat": 4,
 "nbformat_minor": 2
}
