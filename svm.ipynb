{
 "cells": [
  {
   "cell_type": "code",
   "execution_count": 1,
   "metadata": {},
   "outputs": [],
   "source": [
    "import csv\n",
    "import numpy as np\n",
    "import pandas as pd"
   ]
  },
  {
   "attachments": {},
   "cell_type": "markdown",
   "metadata": {},
   "source": [
    "read input data and explore"
   ]
  },
  {
   "cell_type": "code",
   "execution_count": 2,
   "metadata": {},
   "outputs": [
    {
     "name": "stdout",
     "output_type": "stream",
     "text": [
      "82\n"
     ]
    },
    {
     "data": {
      "text/html": [
       "<div>\n",
       "<style scoped>\n",
       "    .dataframe tbody tr th:only-of-type {\n",
       "        vertical-align: middle;\n",
       "    }\n",
       "\n",
       "    .dataframe tbody tr th {\n",
       "        vertical-align: top;\n",
       "    }\n",
       "\n",
       "    .dataframe thead th {\n",
       "        text-align: right;\n",
       "    }\n",
       "</style>\n",
       "<table border=\"1\" class=\"dataframe\">\n",
       "  <thead>\n",
       "    <tr style=\"text-align: right;\">\n",
       "      <th></th>\n",
       "      <th>Insight</th>\n",
       "      <th>Insight Type</th>\n",
       "    </tr>\n",
       "  </thead>\n",
       "  <tbody>\n",
       "    <tr>\n",
       "      <th>0</th>\n",
       "      <td>The Utah Jazz have helped Lauri Markkanen unlo...</td>\n",
       "      <td>Single Player Performance, Strategy and Tactic</td>\n",
       "    </tr>\n",
       "    <tr>\n",
       "      <th>1</th>\n",
       "      <td>Division and conference wins matter.</td>\n",
       "      <td>Strategy and Tactic</td>\n",
       "    </tr>\n",
       "    <tr>\n",
       "      <th>2</th>\n",
       "      <td>Kevin Durant had to leave the game after Jimmy...</td>\n",
       "      <td>Accident</td>\n",
       "    </tr>\n",
       "    <tr>\n",
       "      <th>3</th>\n",
       "      <td>Lakers hustled more, but the Mavericks shootin...</td>\n",
       "      <td>Whole Game Review</td>\n",
       "    </tr>\n",
       "    <tr>\n",
       "      <th>4</th>\n",
       "      <td>Without Kevin Durant, Kyrie Irving is aggressi...</td>\n",
       "      <td>Single Player Performance, Strategy and Tactic</td>\n",
       "    </tr>\n",
       "  </tbody>\n",
       "</table>\n",
       "</div>"
      ],
      "text/plain": [
       "                                             Insight  \\\n",
       "0  The Utah Jazz have helped Lauri Markkanen unlo...   \n",
       "1               Division and conference wins matter.   \n",
       "2  Kevin Durant had to leave the game after Jimmy...   \n",
       "3  Lakers hustled more, but the Mavericks shootin...   \n",
       "4  Without Kevin Durant, Kyrie Irving is aggressi...   \n",
       "\n",
       "                                     Insight Type  \n",
       "0  Single Player Performance, Strategy and Tactic  \n",
       "1                             Strategy and Tactic  \n",
       "2                                        Accident  \n",
       "3                               Whole Game Review  \n",
       "4  Single Player Performance, Strategy and Tactic  "
      ]
     },
     "execution_count": 2,
     "metadata": {},
     "output_type": "execute_result"
    }
   ],
   "source": [
    "df = pd.read_csv(\"article.csv\")\n",
    "print(len(df))\n",
    "df = df.iloc[:, 3:5]\n",
    "df.head()"
   ]
  },
  {
   "cell_type": "code",
   "execution_count": 3,
   "metadata": {},
   "outputs": [
    {
     "data": {
      "text/plain": [
       "{'Single Player Performance': 37,\n",
       " 'Strategy and Tactic': 25,\n",
       " 'Accident': 14,\n",
       " 'Whole Game Review': 26,\n",
       " 'About Referee': 4}"
      ]
     },
     "execution_count": 3,
     "metadata": {},
     "output_type": "execute_result"
    }
   ],
   "source": [
    "types = df['Insight Type'].values\n",
    "types = [insight_type.split(\", \") for insight_type in types]\n",
    "type_dictionary = {}\n",
    "for type_list in types:\n",
    "    for type_ in type_list:\n",
    "        # print(type_)\n",
    "        if type_ not in type_dictionary:\n",
    "            type_dictionary[type_] = 1\n",
    "        else:\n",
    "            type_dictionary[type_] += 1\n",
    "\n",
    "type_dictionary"
   ]
  },
  {
   "cell_type": "code",
   "execution_count": 4,
   "metadata": {},
   "outputs": [
    {
     "data": {
      "text/plain": [
       "<AxesSubplot:xlabel='Insight Type'>"
      ]
     },
     "execution_count": 4,
     "metadata": {},
     "output_type": "execute_result"
    },
    {
     "data": {
      "image/png": "[encoded data removed]",
      "text/plain": [
       "<Figure size 432x288 with 1 Axes>"
      ]
     },
     "metadata": {
      "needs_background": "light"
     },
     "output_type": "display_data"
    }
   ],
   "source": [
    "typeFrame = pd.DataFrame(list(type_dictionary.items()), columns=['Insight Type', 'Count']).sort_values(by='Count', axis=0, ascending=False)\n",
    "typeFrame.plot(x='Insight Type', y='Count', kind='bar')"
   ]
  },
  {
   "attachments": {},
   "cell_type": "markdown",
   "metadata": {},
   "source": [
    "Data Preprosess"
   ]
  },
  {
   "cell_type": "code",
   "execution_count": 5,
   "metadata": {},
   "outputs": [],
   "source": [
    "import re\n",
    "import nltk"
   ]
  },
  {
   "cell_type": "code",
   "execution_count": 6,
   "metadata": {},
   "outputs": [
    {
     "name": "stderr",
     "output_type": "stream",
     "text": [
      "[nltk_data] Error loading stopwords: <urlopen error [Errno 11004]\n",
      "[nltk_data]     getaddrinfo failed>\n"
     ]
    },
    {
     "data": {
      "text/plain": [
       "False"
      ]
     },
     "execution_count": 6,
     "metadata": {},
     "output_type": "execute_result"
    }
   ],
   "source": [
    "nltk.download('stopwords', './nltk')"
   ]
  },
  {
   "cell_type": "code",
   "execution_count": 8,
   "metadata": {},
   "outputs": [],
   "source": [
    "nltk.data.path.append(\"./nltk\")\n",
    "stopwords_set = set(nltk.corpus.stopwords.words('english'))\n",
    "\n",
    "replace_by_space_re = re.compile('[/(){}\\[\\]\\|@,;]')\n",
    "delete_bad_symbols_re = re.compile('[^0-9a-z #+-]')"
   ]
  },
  {
   "cell_type": "code",
   "execution_count": 9,
   "metadata": {},
   "outputs": [],
   "source": [
    "def text_prepare(text):\n",
    "    # text = \"Hello, world!\"\n",
    "    text = text.lower()\n",
    "    text = replace_by_space_re.sub(' ', text)\n",
    "    text = delete_bad_symbols_re.sub('', text)\n",
    "    text = ' '.join([word for word in text.split() if word not in stopwords_set])\n",
    "    return text"
   ]
  },
  {
   "cell_type": "code",
   "execution_count": 10,
   "metadata": {},
   "outputs": [
    {
     "data": {
      "text/plain": [
       "['utah jazz helped lauri markkanen unlock offensive potential becoming kind star build new foundation around',\n",
       " 'division conference wins matter',\n",
       " 'kevin durant leave game jimmy butler landed knee play',\n",
       " 'lakers hustled mavericks shooting prevailed helps mavericks game',\n",
       " 'without kevin durant kyrie irving aggressive shot form ill-advised 30-footer']"
      ]
     },
     "execution_count": 10,
     "metadata": {},
     "output_type": "execute_result"
    }
   ],
   "source": [
    "X_train, y_train = df['Insight'].values, types\n",
    "\n",
    "X_train = [text_prepare(x) for x in X_train]\n",
    "X_train[:5]"
   ]
  },
  {
   "attachments": {},
   "cell_type": "markdown",
   "metadata": {},
   "source": [
    "Feature extraction\n",
    "\n",
    "TF-IDF\n",
    "\n",
    "TF-IDF(term frequency-inverse document frequency)是文本加权方法，采用统计思想，即文本出现的次数和整个语料中文档频率来计算字词的重要度。\n",
    "\n",
    "优点：过滤一些常见但是无关紧要的字词。\n",
    "\n",
    "\n",
    "TF（Term Frequency）表示某个关键词在整篇文章中出现的频率。（某个词在文章中出现的总次数/文章的总词数）;\n",
    "\n",
    "\n",
    "IDF（Inverse Document Frequency）表示计算倒文本频率。文本频率是指某个关键词在整个语料所有文章中出现的次数。倒文档频率又称为逆文档频率，它是文档频率的倒数，主要用于降低所有文档中一些常见却对文档影响不大的词语的作用。"
   ]
  },
  {
   "cell_type": "code",
   "execution_count": 11,
   "metadata": {},
   "outputs": [],
   "source": [
    "from sklearn.pipeline import Pipeline\n",
    "from sklearn.feature_extraction.text import TfidfVectorizer\n",
    "from sklearn.multiclass import OneVsRestClassifier\n",
    "from sklearn.svm import LinearSVC"
   ]
  },
  {
   "cell_type": "code",
   "execution_count": 12,
   "metadata": {},
   "outputs": [
    {
     "name": "stdout",
     "output_type": "stream",
     "text": [
      "  (2, 11)\t0.7837532287160022\n",
      "  (2, 7)\t0.6210723600976314\n",
      "  (3, 9)\t0.9250236310005927\n",
      "  (3, 7)\t0.3799095709382423\n",
      "  (4, 0)\t1.0\n",
      "  (5, 13)\t1.0\n",
      "  (7, 5)\t1.0\n",
      "  (9, 0)\t1.0\n",
      "  (10, 7)\t1.0\n",
      "  (11, 6)\t0.7222887915440898\n",
      "  (11, 8)\t0.6915915713842805\n",
      "  (12, 13)\t1.0\n",
      "  (13, 4)\t0.5390777005627759\n",
      "  (13, 3)\t0.5390777005627759\n",
      "  (13, 9)\t0.5000679922701942\n",
      "  (13, 7)\t0.41075840663187557\n",
      "  (14, 4)\t0.5912597918624791\n",
      "  (14, 3)\t0.5912597918624791\n",
      "  (14, 9)\t0.5484739894046717\n",
      "  (16, 7)\t1.0\n",
      "  (17, 2)\t1.0\n",
      "  (21, 5)\t1.0\n",
      "  (24, 6)\t0.6284103529144639\n",
      "  (24, 5)\t0.6284103529144639\n",
      "  (24, 7)\t0.4584766697443153\n",
      "  :\t:\n",
      "  (63, 10)\t0.8078479014420621\n",
      "  (63, 7)\t0.589391014637699\n",
      "  (64, 11)\t1.0\n",
      "  (66, 4)\t0.5390777005627759\n",
      "  (66, 3)\t0.5390777005627759\n",
      "  (66, 9)\t0.5000679922701942\n",
      "  (66, 7)\t0.41075840663187557\n",
      "  (67, 4)\t0.5912597918624791\n",
      "  (67, 3)\t0.5912597918624791\n",
      "  (67, 9)\t0.5484739894046717\n",
      "  (68, 8)\t0.7208286208109487\n",
      "  (68, 11)\t0.6931133380766709\n",
      "  (70, 10)\t0.4905450898427375\n",
      "  (70, 2)\t0.8714158105239889\n",
      "  (74, 6)\t0.7222887915440898\n",
      "  (74, 8)\t0.6915915713842805\n",
      "  (77, 2)\t0.6800828312354829\n",
      "  (77, 13)\t0.7331352826448401\n",
      "  (79, 1)\t1.0\n",
      "  (80, 1)\t0.7356798775144184\n",
      "  (80, 11)\t0.6773294012667472\n",
      "  (81, 10)\t0.5349317436782044\n",
      "  (81, 2)\t0.47513265206853283\n",
      "  (81, 8)\t0.5121971841801174\n",
      "  (81, 9)\t0.47513265206853283\n"
     ]
    }
   ],
   "source": [
    "tf_idf = TfidfVectorizer(min_df=5,max_df=0.9,ngram_range=(1,2),token_pattern= '(\\S+)')\n",
    "feature = tf_idf.fit_transform(X_train)\n",
    "print(feature)"
   ]
  },
  {
   "attachments": {},
   "cell_type": "markdown",
   "metadata": {},
   "source": [
    "multilabel binarizer"
   ]
  },
  {
   "cell_type": "code",
   "execution_count": 13,
   "metadata": {},
   "outputs": [],
   "source": [
    "from sklearn.preprocessing import MultiLabelBinarizer"
   ]
  },
  {
   "cell_type": "code",
   "execution_count": 14,
   "metadata": {},
   "outputs": [
    {
     "name": "stdout",
     "output_type": "stream",
     "text": [
      "['Single Player Performance', 'Strategy and Tactic']\n",
      "[0 0 1 1 0]\n"
     ]
    }
   ],
   "source": [
    "multi_label = MultiLabelBinarizer(classes=sorted(type_dictionary.keys()))\n",
    "print(y_train[0])\n",
    "y_train = multi_label.fit_transform(y_train)\n",
    "print(y_train[0])\n"
   ]
  },
  {
   "attachments": {},
   "cell_type": "markdown",
   "metadata": {},
   "source": [
    "train"
   ]
  },
  {
   "cell_type": "code",
   "execution_count": 15,
   "metadata": {},
   "outputs": [],
   "source": [
    "# TF-IDF + SVM\n",
    "model_tfidf_svm =  Pipeline([\n",
    "    ('tfidf', TfidfVectorizer(min_df=5,max_df=0.9,ngram_range=(1,2),token_pattern= '(\\S+)')),\n",
    "    ('clf', OneVsRestClassifier(LinearSVC(), n_jobs=1)),\n",
    "])"
   ]
  },
  {
   "cell_type": "code",
   "execution_count": 16,
   "metadata": {},
   "outputs": [
    {
     "data": {
      "text/plain": [
       "Pipeline(steps=[('tfidf',\n",
       "                 TfidfVectorizer(max_df=0.9, min_df=5, ngram_range=(1, 2),\n",
       "                                 token_pattern='(\\\\S+)')),\n",
       "                ('clf', OneVsRestClassifier(estimator=LinearSVC(), n_jobs=1))])"
      ]
     },
     "execution_count": 16,
     "metadata": {},
     "output_type": "execute_result"
    }
   ],
   "source": [
    "model_tfidf_svm.fit(X_train,y_train)"
   ]
  },
  {
   "cell_type": "code",
   "execution_count": 17,
   "metadata": {},
   "outputs": [],
   "source": [
    "from sklearn.metrics import accuracy_score\n",
    "from sklearn.metrics import f1_score\n",
    "from sklearn.metrics import roc_auc_score \n",
    "from sklearn.metrics import average_precision_score\n",
    "from sklearn.metrics import recall_score\n",
    " \n",
    "def print_evaluation_scores(y_val, predicted):\n",
    "    accuracy=accuracy_score(y_val, predicted)\n",
    "    f1_score_macro=f1_score(y_val, predicted, average='macro')\n",
    "    f1_score_micro=f1_score(y_val, predicted, average='micro')\n",
    "    f1_score_weighted=f1_score(y_val, predicted, average='weighted')\n",
    "    print(\"accuracy:\",accuracy)\n",
    "    print(\"f1_score_macro:\",f1_score_macro)\n",
    "    print(\"f1_score_micro:\",f1_score_micro)\n",
    "    print(\"f1_score_weighted:\",f1_score_weighted)"
   ]
  },
  {
   "cell_type": "code",
   "execution_count": 18,
   "metadata": {},
   "outputs": [
    {
     "name": "stdout",
     "output_type": "stream",
     "text": [
      "accuracy: 0.2682926829268293\n",
      "f1_score_macro: 0.3916164669040877\n",
      "f1_score_micro: 0.4836601307189543\n",
      "f1_score_weighted: 0.47628818200760303\n"
     ]
    }
   ],
   "source": [
    "predict = model_tfidf_svm.predict(X_train)\n",
    "print_evaluation_scores(y_train, predict)"
   ]
  },
  {
   "attachments": {},
   "cell_type": "markdown",
   "metadata": {},
   "source": [
    "IN preposition/subordinating conjunction\n",
    "\n",
    "JJ adjective 'big'\n",
    "\n",
    "JJR adjective, comparative 'bigger'\n",
    "\n",
    "JJS adjective, superlative 'biggest'\n",
    "\n",
    "NN noun, singular 'desk'\n",
    "\n",
    "NNS noun, plural 'desks'\n",
    "\n",
    "NNP proper noun, singular 'Harrison'\n",
    "\n",
    "NNPS proper noun, plural 'Americans'\n",
    "\n",
    "VB verb, base form take"
   ]
  },
  {
   "cell_type": "code",
   "execution_count": null,
   "metadata": {},
   "outputs": [],
   "source": []
  }
 ],
 "metadata": {
  "kernelspec": {
   "display_name": "Python 3",
   "language": "python",
   "name": "python3"
  },
  "language_info": {
   "codemirror_mode": {
    "name": "ipython",
    "version": 3
   },
   "file_extension": ".py",
   "mimetype": "text/x-python",
   "name": "python",
   "nbconvert_exporter": "python",
   "pygments_lexer": "ipython3",
   "version": "3.10.4"
  },
  "orig_nbformat": 4,
  "vscode": {
   "interpreter": {
    "hash": "301a17a29b57d3836b7901af1621afd6d2b1f2298b9c7949191147cf2fea93e3"
   }
  }
 },
 "nbformat": 4,
 "nbformat_minor": 2
}
