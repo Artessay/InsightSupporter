{
 "cells": [
  {
   "attachments": {},
   "cell_type": "markdown",
   "metadata": {},
   "source": [
    "观察events事件中有哪些技术动作"
   ]
  },
  {
   "cell_type": "code",
   "execution_count": 1,
   "metadata": {},
   "outputs": [
    {
     "name": "stdout",
     "output_type": "stream",
     "text": [
      "[json] events number:  469\n"
     ]
    }
   ],
   "source": [
    "import readJson\n",
    "\n",
    "jsonPath = r'./summary.json'\n",
    "events = readJson.readEvents(path=jsonPath)"
   ]
  },
  {
   "cell_type": "code",
   "execution_count": 6,
   "metadata": {},
   "outputs": [
    {
     "name": "stdout",
     "output_type": "stream",
     "text": [
      "60\n"
     ]
    }
   ],
   "source": [
    "actions = [event['type']['text'] for event in events]\n",
    "actions = list(set(actions))\n",
    "actions.sort()\n",
    "print(len(actions))"
   ]
  },
  {
   "cell_type": "code",
   "execution_count": 7,
   "metadata": {},
   "outputs": [
    {
     "name": "stdout",
     "output_type": "stream",
     "text": [
      "Alley Oop Dunk Shot\n",
      "Bad Pass\n",
      "Turnover\n",
      "Coach's Challenge (Overturned)\n",
      "Cutting Dunk Shot\n",
      "Cutting Finger Roll Layup Shot\n",
      "Cutting Layup Shot\n",
      "Defensive Rebound\n",
      "Driving Finger Roll Layup\n",
      "Driving Floating Bank Jump Shot\n",
      "Driving Floating Jump Shot\n",
      "Driving Layup Shot\n",
      "End Game\n",
      "End Period\n",
      "Fade Away Bank Jump Shot\n",
      "Fade Away Jump Shot\n",
      "Finger Roll Layup\n",
      "Floating Jump Shot\n",
      "Free Throw - 1 of 1\n",
      "Free Throw - 1 of 2\n",
      "Free Throw - 1 of 3\n",
      "Free Throw - 2 of 2\n",
      "Free Throw - 2 of 3\n",
      "Free Throw - 3 of 3\n",
      "Free Throw - Technical\n",
      "Full Timeout\n",
      "Hook Shot\n",
      "Inbound Turnover\n",
      "Jump Shot\n",
      "Jumpball\n",
      "Kicked Ball\n",
      "Layup Driving Reverse\n",
      "Layup Shot\n",
      "Layup Shot Putback\n",
      "Loose Ball Foul\n",
      "Lost Ball Turnover\n",
      "Offensive Charge\n",
      "Offensive Foul\n",
      "Offensive Foul Turnover\n",
      "Offensive Rebound\n",
      "Out of Bounds - Bad Pass Turnover\n",
      "Out of Bounds - Lost Ball Turnover\n",
      "Out of Bounds - Step Turnover\n",
      "Personal Foul\n",
      "Personal Take Foul\n",
      "Pullup Jump Shot\n",
      "Reverse Layup Shot\n",
      "Running Alley Oop Layup Shot\n",
      "Running Dunk Shot\n",
      "Running Finger Roll Layup\n",
      "Running Jump Shot\n",
      "Running Layup Shot\n",
      "Running Pullup Jump Shot\n",
      "Shooting Foul\n",
      "Shot Clock Turnover\n",
      "Step Back Jump Shot\n",
      "Substitution\n",
      "Technical Foul\n",
      "Tip Shot\n",
      "Turnaround Fade Away Jump Shot\n",
      "Turnaround Hook Shot\n"
     ]
    }
   ],
   "source": [
    "for action in actions:\n",
    "    print(action)"
   ]
  }
 ],
 "metadata": {
  "kernelspec": {
   "display_name": "Python 3",
   "language": "python",
   "name": "python3"
  },
  "language_info": {
   "codemirror_mode": {
    "name": "ipython",
    "version": 3
   },
   "file_extension": ".py",
   "mimetype": "text/x-python",
   "name": "python",
   "nbconvert_exporter": "python",
   "pygments_lexer": "ipython3",
   "version": "3.10.4"
  },
  "orig_nbformat": 4
 },
 "nbformat": 4,
 "nbformat_minor": 2
}
